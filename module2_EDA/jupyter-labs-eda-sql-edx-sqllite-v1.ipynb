{
 "cells": [
  {
   "cell_type": "code",
   "execution_count": null,
   "metadata": {},
   "outputs": [],
   "source": [
    "<p style=\"text-align:center\">\n",
    "    <a href=\"https://skills.network\" target=\"_blank\">\n",
    "    <img src=\"https://cf-courses-data.s3.us.cloud-object-storage.appdomain.cloud/assets/logos/SN_web_lightmode.png\" width=\"200\" alt=\"Skills Network Logo\">\n",
    "    </a>\n",
    "</p>\n",
    "\n",
    "<h1 align=center><font size = 5>Hands-on Lab: Complete the EDA with SQL</font></h1>\n",
    "\n",
    "Estimated time needed: **60** minutes.\n",
    "\n",
    "## Introduction\n",
    "Using this Python notebook you will:\n",
    "\n",
    "1.  Understand the Spacex DataSet\n",
    "2.  Load the dataset  into the corresponding table in a Db2 database\n",
    "3.  Execute SQL queries to answer assignment questions \n"
   ]
  },
  {
   "cell_type": "markdown",
   "metadata": {},
   "source": [
    "## Overview of the DataSet\n",
    "\n",
    "SpaceX has gained worldwide attention for a series of historic milestones. \n",
    "\n",
    "It is the only private company ever to return a spacecraft from low-earth orbit, which it first accomplished in December 2010.\n",
    "SpaceX advertises Falcon 9 rocket launches on its website with a cost of 62 million dollars wheras other providers cost upward of 165 million dollars each, much of the savings is because Space X can reuse the first stage. \n",
    "\n",
    "\n",
    "Therefore if we can determine if the first stage will land, we can determine the cost of a launch. \n",
    "\n",
    "This information can be used if an alternate company wants to bid against SpaceX for a rocket launch.\n",
    "\n",
    "This dataset includes a record for each payload carried during a SpaceX mission into outer space.\n"
   ]
  },
  {
   "cell_type": "markdown",
   "metadata": {},
   "source": [
    "### Download the datasets\n",
    "\n",
    "This assignment requires you to load the spacex dataset.\n",
    "\n",
    "In many cases the dataset to be analyzed is available as a .CSV (comma separated values) file, perhaps on the internet. Click on the link below to download and save the dataset (.CSV file):\n",
    "\n",
    " <a href=\"https://cf-courses-data.s3.us.cloud-object-storage.appdomain.cloud/IBM-DS0321EN-SkillsNetwork/labs/module_2/data/Spacex.csv\" target=\"_blank\">Spacex DataSet</a>\n",
    "\n"
   ]
  },
  {
   "cell_type": "code",
   "execution_count": 1,
   "metadata": {},
   "outputs": [
    {
     "name": "stdout",
     "output_type": "stream",
     "text": [
      "Requirement already satisfied: ipython-sql in /Users/xingliu/opt/miniconda3/envs/py39/lib/python3.9/site-packages (0.5.0)\n",
      "Requirement already satisfied: prettytable in /Users/xingliu/opt/miniconda3/envs/py39/lib/python3.9/site-packages (from ipython-sql) (3.15.1)\n",
      "Requirement already satisfied: ipython in /Users/xingliu/opt/miniconda3/envs/py39/lib/python3.9/site-packages (from ipython-sql) (8.18.1)\n",
      "Requirement already satisfied: sqlalchemy>=2.0 in /Users/xingliu/opt/miniconda3/envs/py39/lib/python3.9/site-packages (from ipython-sql) (2.0.38)\n",
      "Requirement already satisfied: sqlparse in /Users/xingliu/opt/miniconda3/envs/py39/lib/python3.9/site-packages (from ipython-sql) (0.5.3)\n",
      "Requirement already satisfied: six in /Users/xingliu/opt/miniconda3/envs/py39/lib/python3.9/site-packages (from ipython-sql) (1.16.0)\n",
      "Requirement already satisfied: ipython-genutils in /Users/xingliu/opt/miniconda3/envs/py39/lib/python3.9/site-packages (from ipython-sql) (0.2.0)\n",
      "Requirement already satisfied: greenlet!=0.4.17 in /Users/xingliu/opt/miniconda3/envs/py39/lib/python3.9/site-packages (from sqlalchemy>=2.0->ipython-sql) (3.0.1)\n",
      "Requirement already satisfied: typing-extensions>=4.6.0 in /Users/xingliu/opt/miniconda3/envs/py39/lib/python3.9/site-packages (from sqlalchemy>=2.0->ipython-sql) (4.11.0)\n",
      "Requirement already satisfied: decorator in /Users/xingliu/opt/miniconda3/envs/py39/lib/python3.9/site-packages (from ipython->ipython-sql) (5.1.1)\n",
      "Requirement already satisfied: jedi>=0.16 in /Users/xingliu/opt/miniconda3/envs/py39/lib/python3.9/site-packages (from ipython->ipython-sql) (0.19.2)\n",
      "Requirement already satisfied: matplotlib-inline in /Users/xingliu/opt/miniconda3/envs/py39/lib/python3.9/site-packages (from ipython->ipython-sql) (0.1.7)\n",
      "Requirement already satisfied: prompt-toolkit<3.1.0,>=3.0.41 in /Users/xingliu/opt/miniconda3/envs/py39/lib/python3.9/site-packages (from ipython->ipython-sql) (3.0.48)\n",
      "Requirement already satisfied: pygments>=2.4.0 in /Users/xingliu/opt/miniconda3/envs/py39/lib/python3.9/site-packages (from ipython->ipython-sql) (2.18.0)\n",
      "Requirement already satisfied: stack-data in /Users/xingliu/opt/miniconda3/envs/py39/lib/python3.9/site-packages (from ipython->ipython-sql) (0.6.3)\n",
      "Requirement already satisfied: traitlets>=5 in /Users/xingliu/opt/miniconda3/envs/py39/lib/python3.9/site-packages (from ipython->ipython-sql) (5.14.3)\n",
      "Requirement already satisfied: exceptiongroup in /Users/xingliu/opt/miniconda3/envs/py39/lib/python3.9/site-packages (from ipython->ipython-sql) (1.2.0)\n",
      "Requirement already satisfied: pexpect>4.3 in /Users/xingliu/opt/miniconda3/envs/py39/lib/python3.9/site-packages (from ipython->ipython-sql) (4.9.0)\n",
      "Requirement already satisfied: wcwidth in /Users/xingliu/opt/miniconda3/envs/py39/lib/python3.9/site-packages (from prettytable->ipython-sql) (0.2.13)\n",
      "Requirement already satisfied: parso<0.9.0,>=0.8.4 in /Users/xingliu/opt/miniconda3/envs/py39/lib/python3.9/site-packages (from jedi>=0.16->ipython->ipython-sql) (0.8.4)\n",
      "Requirement already satisfied: ptyprocess>=0.5 in /Users/xingliu/opt/miniconda3/envs/py39/lib/python3.9/site-packages (from pexpect>4.3->ipython->ipython-sql) (0.7.0)\n",
      "Requirement already satisfied: executing>=1.2.0 in /Users/xingliu/opt/miniconda3/envs/py39/lib/python3.9/site-packages (from stack-data->ipython->ipython-sql) (2.1.0)\n",
      "Requirement already satisfied: asttokens>=2.1.0 in /Users/xingliu/opt/miniconda3/envs/py39/lib/python3.9/site-packages (from stack-data->ipython->ipython-sql) (2.4.1)\n",
      "Requirement already satisfied: pure-eval in /Users/xingliu/opt/miniconda3/envs/py39/lib/python3.9/site-packages (from stack-data->ipython->ipython-sql) (0.2.3)\n",
      "Requirement already satisfied: pandas in /Users/xingliu/opt/miniconda3/envs/py39/lib/python3.9/site-packages (2.2.3)\n",
      "Requirement already satisfied: numpy>=1.22.4 in /Users/xingliu/opt/miniconda3/envs/py39/lib/python3.9/site-packages (from pandas) (1.26.4)\n",
      "Requirement already satisfied: python-dateutil>=2.8.2 in /Users/xingliu/opt/miniconda3/envs/py39/lib/python3.9/site-packages (from pandas) (2.9.0.post0)\n",
      "Requirement already satisfied: pytz>=2020.1 in /Users/xingliu/opt/miniconda3/envs/py39/lib/python3.9/site-packages (from pandas) (2024.1)\n",
      "Requirement already satisfied: tzdata>=2022.7 in /Users/xingliu/opt/miniconda3/envs/py39/lib/python3.9/site-packages (from pandas) (2023.3)\n",
      "Requirement already satisfied: six>=1.5 in /Users/xingliu/opt/miniconda3/envs/py39/lib/python3.9/site-packages (from python-dateutil>=2.8.2->pandas) (1.16.0)\n",
      "Requirement already satisfied: prettytable in /Users/xingliu/opt/miniconda3/envs/py39/lib/python3.9/site-packages (3.15.1)\n",
      "Requirement already satisfied: wcwidth in /Users/xingliu/opt/miniconda3/envs/py39/lib/python3.9/site-packages (from prettytable) (0.2.13)\n",
      "Requirement already satisfied: sqlalchemy in /Users/xingliu/opt/miniconda3/envs/py39/lib/python3.9/site-packages (2.0.38)\n",
      "Requirement already satisfied: greenlet!=0.4.17 in /Users/xingliu/opt/miniconda3/envs/py39/lib/python3.9/site-packages (from sqlalchemy) (3.0.1)\n",
      "Requirement already satisfied: typing-extensions>=4.6.0 in /Users/xingliu/opt/miniconda3/envs/py39/lib/python3.9/site-packages (from sqlalchemy) (4.11.0)\n"
     ]
    }
   ],
   "source": [
    "!pip install ipython-sql\n",
    "!pip install pandas\n",
    "!pip install --upgrade prettytable\n",
    "!pip install --upgrade sqlalchemy"
   ]
  },
  {
   "cell_type": "markdown",
   "metadata": {},
   "source": [
    "### Connect to the database\n",
    "\n",
    "Let us first load the SQL extension and establish a connection with the database\n"
   ]
  },
  {
   "cell_type": "code",
   "execution_count": 3,
   "metadata": {},
   "outputs": [],
   "source": [
    "import prettytable\n",
    "prettytable.DEFAULT = 'DEFAULT'"
   ]
  },
  {
   "cell_type": "code",
   "execution_count": 11,
   "metadata": {},
   "outputs": [
    {
     "name": "stdout",
     "output_type": "stream",
     "text": [
      "The sql extension is already loaded. To reload it, use:\n",
      "  %reload_ext sql\n"
     ]
    }
   ],
   "source": [
    "%load_ext sql"
   ]
  },
  {
   "cell_type": "code",
   "execution_count": 13,
   "metadata": {},
   "outputs": [],
   "source": [
    "import csv, sqlite3\n",
    "\n",
    "con = sqlite3.connect(\"my_data1.db\")\n",
    "cur = con.cursor()"
   ]
  },
  {
   "cell_type": "code",
   "execution_count": 15,
   "metadata": {},
   "outputs": [],
   "source": [
    "%sql sqlite:///my_data1.db"
   ]
  },
  {
   "cell_type": "code",
   "execution_count": 17,
   "metadata": {},
   "outputs": [
    {
     "data": {
      "text/plain": [
       "101"
      ]
     },
     "execution_count": 17,
     "metadata": {},
     "output_type": "execute_result"
    }
   ],
   "source": [
    "import pandas as pd\n",
    "df = pd.read_csv(\"https://cf-courses-data.s3.us.cloud-object-storage.appdomain.cloud/IBM-DS0321EN-SkillsNetwork/labs/module_2/data/Spacex.csv\")\n",
    "df.to_sql(\"SPACEXTBL\", con, if_exists='replace', index=False,method=\"multi\")"
   ]
  },
  {
   "cell_type": "code",
   "execution_count": 19,
   "metadata": {},
   "outputs": [
    {
     "name": "stdout",
     "output_type": "stream",
     "text": [
      " * sqlite:///my_data1.db\n",
      "Done.\n"
     ]
    },
    {
     "data": {
      "text/plain": [
       "[]"
      ]
     },
     "execution_count": 19,
     "metadata": {},
     "output_type": "execute_result"
    }
   ],
   "source": [
    "%sql drop table SPACEXTABLE"
   ]
  },
  {
   "cell_type": "markdown",
   "metadata": {},
   "source": [
    "**Note:This below code is added to remove blank rows from table**\n"
   ]
  },
  {
   "cell_type": "code",
   "execution_count": 21,
   "metadata": {},
   "outputs": [
    {
     "name": "stdout",
     "output_type": "stream",
     "text": [
      " * sqlite:///my_data1.db\n",
      "Done.\n"
     ]
    },
    {
     "data": {
      "text/plain": [
       "[]"
      ]
     },
     "execution_count": 21,
     "metadata": {},
     "output_type": "execute_result"
    }
   ],
   "source": [
    "%sql create table SPACEXTABLE as select * from SPACEXTBL where Date is not null"
   ]
  },
  {
   "cell_type": "markdown",
   "metadata": {},
   "source": [
    "## Tasks\n",
    "\n",
    "Now write and execute SQL queries to solve the assignment tasks.\n",
    "\n",
    "**Note: If the column names are in mixed case enclose it in double quotes\n",
    "   For Example \"Landing_Outcome\"** . \n",
    "\n",
    "   \n",
    "\n",
    "### Task 1\n",
    "\n",
    "\n",
    "\n",
    "\n",
    "##### Display the names of the unique launch sites  in the space mission\n"
   ]
  },
  {
   "cell_type": "code",
   "execution_count": 25,
   "metadata": {
    "scrolled": true
   },
   "outputs": [
    {
     "name": "stdout",
     "output_type": "stream",
     "text": [
      " * sqlite:///my_data1.db\n",
      "Done.\n"
     ]
    },
    {
     "data": {
      "text/html": [
       "<table>\n",
       "    <thead>\n",
       "        <tr>\n",
       "            <th>Launch_Site</th>\n",
       "        </tr>\n",
       "    </thead>\n",
       "    <tbody>\n",
       "        <tr>\n",
       "            <td>CCAFS LC-40</td>\n",
       "        </tr>\n",
       "        <tr>\n",
       "            <td>VAFB SLC-4E</td>\n",
       "        </tr>\n",
       "        <tr>\n",
       "            <td>KSC LC-39A</td>\n",
       "        </tr>\n",
       "        <tr>\n",
       "            <td>CCAFS SLC-40</td>\n",
       "        </tr>\n",
       "    </tbody>\n",
       "</table>"
      ],
      "text/plain": [
       "[('CCAFS LC-40',), ('VAFB SLC-4E',), ('KSC LC-39A',), ('CCAFS SLC-40',)]"
      ]
     },
     "execution_count": 25,
     "metadata": {},
     "output_type": "execute_result"
    }
   ],
   "source": [
    "%sql SELECT distinct \"Launch_Site\" from SPACEXTABLE;\n"
   ]
  },
  {
   "cell_type": "markdown",
   "metadata": {},
   "source": [
    "\n",
    "### Task 2\n",
    "\n",
    "\n",
    "#####  Display 5 records where launch sites begin with the string 'KSC' \n"
   ]
  },
  {
   "cell_type": "code",
   "execution_count": 27,
   "metadata": {},
   "outputs": [
    {
     "name": "stdout",
     "output_type": "stream",
     "text": [
      " * sqlite:///my_data1.db\n",
      "Done.\n"
     ]
    },
    {
     "data": {
      "text/html": [
       "<table>\n",
       "    <thead>\n",
       "        <tr>\n",
       "            <th>Date</th>\n",
       "            <th>Time (UTC)</th>\n",
       "            <th>Booster_Version</th>\n",
       "            <th>Launch_Site</th>\n",
       "            <th>Payload</th>\n",
       "            <th>PAYLOAD_MASS__KG_</th>\n",
       "            <th>Orbit</th>\n",
       "            <th>Customer</th>\n",
       "            <th>Mission_Outcome</th>\n",
       "            <th>Landing_Outcome</th>\n",
       "        </tr>\n",
       "    </thead>\n",
       "    <tbody>\n",
       "        <tr>\n",
       "            <td>2017-02-19</td>\n",
       "            <td>14:39:00</td>\n",
       "            <td>F9 FT B1031.1</td>\n",
       "            <td>KSC LC-39A</td>\n",
       "            <td>SpaceX CRS-10</td>\n",
       "            <td>2490</td>\n",
       "            <td>LEO (ISS)</td>\n",
       "            <td>NASA (CRS)</td>\n",
       "            <td>Success</td>\n",
       "            <td>Success (ground pad)</td>\n",
       "        </tr>\n",
       "        <tr>\n",
       "            <td>2017-03-16</td>\n",
       "            <td>6:00:00</td>\n",
       "            <td>F9 FT B1030</td>\n",
       "            <td>KSC LC-39A</td>\n",
       "            <td>EchoStar 23</td>\n",
       "            <td>5600</td>\n",
       "            <td>GTO</td>\n",
       "            <td>EchoStar</td>\n",
       "            <td>Success</td>\n",
       "            <td>No attempt</td>\n",
       "        </tr>\n",
       "        <tr>\n",
       "            <td>2017-03-30</td>\n",
       "            <td>22:27:00</td>\n",
       "            <td>F9 FT  B1021.2</td>\n",
       "            <td>KSC LC-39A</td>\n",
       "            <td>SES-10</td>\n",
       "            <td>5300</td>\n",
       "            <td>GTO</td>\n",
       "            <td>SES</td>\n",
       "            <td>Success</td>\n",
       "            <td>Success (drone ship)</td>\n",
       "        </tr>\n",
       "        <tr>\n",
       "            <td>2017-05-01</td>\n",
       "            <td>11:15:00</td>\n",
       "            <td>F9 FT B1032.1</td>\n",
       "            <td>KSC LC-39A</td>\n",
       "            <td>NROL-76</td>\n",
       "            <td>5300</td>\n",
       "            <td>LEO</td>\n",
       "            <td>NRO</td>\n",
       "            <td>Success</td>\n",
       "            <td>Success (ground pad)</td>\n",
       "        </tr>\n",
       "        <tr>\n",
       "            <td>2017-05-15</td>\n",
       "            <td>23:21:00</td>\n",
       "            <td>F9 FT B1034</td>\n",
       "            <td>KSC LC-39A</td>\n",
       "            <td>Inmarsat-5 F4</td>\n",
       "            <td>6070</td>\n",
       "            <td>GTO</td>\n",
       "            <td>Inmarsat</td>\n",
       "            <td>Success</td>\n",
       "            <td>No attempt</td>\n",
       "        </tr>\n",
       "    </tbody>\n",
       "</table>"
      ],
      "text/plain": [
       "[('2017-02-19', '14:39:00', 'F9 FT B1031.1', 'KSC LC-39A', 'SpaceX CRS-10', 2490, 'LEO (ISS)', 'NASA (CRS)', 'Success', 'Success (ground pad)'),\n",
       " ('2017-03-16', '6:00:00', 'F9 FT B1030', 'KSC LC-39A', 'EchoStar 23', 5600, 'GTO', 'EchoStar', 'Success', 'No attempt'),\n",
       " ('2017-03-30', '22:27:00', 'F9 FT  B1021.2', 'KSC LC-39A', 'SES-10', 5300, 'GTO', 'SES', 'Success', 'Success (drone ship)'),\n",
       " ('2017-05-01', '11:15:00', 'F9 FT B1032.1', 'KSC LC-39A', 'NROL-76', 5300, 'LEO', 'NRO', 'Success', 'Success (ground pad)'),\n",
       " ('2017-05-15', '23:21:00', 'F9 FT B1034', 'KSC LC-39A', 'Inmarsat-5 F4', 6070, 'GTO', 'Inmarsat', 'Success', 'No attempt')]"
      ]
     },
     "execution_count": 27,
     "metadata": {},
     "output_type": "execute_result"
    }
   ],
   "source": [
    "%sql SELECT * from SPACEXTABLE where \"Launch_Site\" like \"KSC%\" limit 5;"
   ]
  },
  {
   "cell_type": "markdown",
   "metadata": {},
   "source": [
    "### Task 3\n",
    "\n",
    "\n",
    "\n",
    "\n",
    "##### Display the total payload mass carried by boosters launched by NASA (CRS)\n"
   ]
  },
  {
   "cell_type": "code",
   "execution_count": 37,
   "metadata": {},
   "outputs": [
    {
     "name": "stdout",
     "output_type": "stream",
     "text": [
      " * sqlite:///my_data1.db\n",
      "Done.\n"
     ]
    },
    {
     "data": {
      "text/html": [
       "<table>\n",
       "    <thead>\n",
       "        <tr>\n",
       "            <th>PAYLOAD_MASS__KG_</th>\n",
       "        </tr>\n",
       "    </thead>\n",
       "    <tbody>\n",
       "        <tr>\n",
       "            <td>99980</td>\n",
       "        </tr>\n",
       "    </tbody>\n",
       "</table>"
      ],
      "text/plain": [
       "[(99980,)]"
      ]
     },
     "execution_count": 37,
     "metadata": {},
     "output_type": "execute_result"
    }
   ],
   "source": [
    "%sql SELECT sum(\"PAYLOAD_MASS__KG_\") as \"PAYLOAD_MASS__KG_\" from SPACEXTABLE where \"Customer\" like \"NASA%\";"
   ]
  },
  {
   "cell_type": "code",
   "execution_count": 33,
   "metadata": {},
   "outputs": [
    {
     "name": "stdout",
     "output_type": "stream",
     "text": [
      " * sqlite:///my_data1.db\n",
      "Done.\n"
     ]
    },
    {
     "data": {
      "text/html": [
       "<table>\n",
       "    <thead>\n",
       "        <tr>\n",
       "            <th>PAYLOAD_MASS__KG_</th>\n",
       "            <th>Booster_Version</th>\n",
       "        </tr>\n",
       "    </thead>\n",
       "    <tbody>\n",
       "        <tr>\n",
       "            <td>2647</td>\n",
       "            <td>F9 B4  B1039.2</td>\n",
       "        </tr>\n",
       "        <tr>\n",
       "            <td>3310</td>\n",
       "            <td>F9 B4 B1039.1</td>\n",
       "        </tr>\n",
       "        <tr>\n",
       "            <td>362</td>\n",
       "            <td>F9 B4 B1045.1</td>\n",
       "        </tr>\n",
       "        <tr>\n",
       "            <td>2697</td>\n",
       "            <td>F9 B4 B1045.2</td>\n",
       "        </tr>\n",
       "        <tr>\n",
       "            <td>12050</td>\n",
       "            <td>F9 B5 B1046.4</td>\n",
       "        </tr>\n",
       "        <tr>\n",
       "            <td>2268</td>\n",
       "            <td>F9 B5 B1056.2 </td>\n",
       "        </tr>\n",
       "        <tr>\n",
       "            <td>2972</td>\n",
       "            <td>F9 B5 B1058.4 </td>\n",
       "        </tr>\n",
       "        <tr>\n",
       "            <td>1977</td>\n",
       "            <td>F9 B5 B1059.2</td>\n",
       "        </tr>\n",
       "        <tr>\n",
       "            <td>2500</td>\n",
       "            <td>F9 B5B1050</td>\n",
       "        </tr>\n",
       "        <tr>\n",
       "            <td>12055</td>\n",
       "            <td>F9 B5B1051.1</td>\n",
       "        </tr>\n",
       "        <tr>\n",
       "            <td>2495</td>\n",
       "            <td>F9 B5B1056.1 </td>\n",
       "        </tr>\n",
       "        <tr>\n",
       "            <td>12530</td>\n",
       "            <td>F9 B5B1058.1 </td>\n",
       "        </tr>\n",
       "        <tr>\n",
       "            <td>2617</td>\n",
       "            <td>F9 B5B1059.1</td>\n",
       "        </tr>\n",
       "        <tr>\n",
       "            <td>12500</td>\n",
       "            <td>F9 B5B1061.1 </td>\n",
       "        </tr>\n",
       "        <tr>\n",
       "            <td>1192</td>\n",
       "            <td>F9 B5B1063.1</td>\n",
       "        </tr>\n",
       "        <tr>\n",
       "            <td>2205</td>\n",
       "            <td>F9 FT  B1035.2</td>\n",
       "        </tr>\n",
       "        <tr>\n",
       "            <td>3136</td>\n",
       "            <td>F9 FT B1021.1</td>\n",
       "        </tr>\n",
       "        <tr>\n",
       "            <td>2257</td>\n",
       "            <td>F9 FT B1025.1</td>\n",
       "        </tr>\n",
       "        <tr>\n",
       "            <td>2490</td>\n",
       "            <td>F9 FT B1031.1</td>\n",
       "        </tr>\n",
       "        <tr>\n",
       "            <td>2708</td>\n",
       "            <td>F9 FT B1035.1</td>\n",
       "        </tr>\n",
       "        <tr>\n",
       "            <td>0</td>\n",
       "            <td>F9 v1.0  B0004</td>\n",
       "        </tr>\n",
       "        <tr>\n",
       "            <td>525</td>\n",
       "            <td>F9 v1.0  B0005</td>\n",
       "        </tr>\n",
       "        <tr>\n",
       "            <td>500</td>\n",
       "            <td>F9 v1.0  B0006</td>\n",
       "        </tr>\n",
       "        <tr>\n",
       "            <td>677</td>\n",
       "            <td>F9 v1.0  B0007</td>\n",
       "        </tr>\n",
       "        <tr>\n",
       "            <td>2296</td>\n",
       "            <td>F9 v1.1</td>\n",
       "        </tr>\n",
       "        <tr>\n",
       "            <td>2216</td>\n",
       "            <td>F9 v1.1 B1010</td>\n",
       "        </tr>\n",
       "        <tr>\n",
       "            <td>2395</td>\n",
       "            <td>F9 v1.1 B1012</td>\n",
       "        </tr>\n",
       "        <tr>\n",
       "            <td>1898</td>\n",
       "            <td>F9 v1.1 B1015</td>\n",
       "        </tr>\n",
       "        <tr>\n",
       "            <td>553</td>\n",
       "            <td>F9 v1.1 B1017</td>\n",
       "        </tr>\n",
       "        <tr>\n",
       "            <td>1952</td>\n",
       "            <td>F9 v1.1 B1018</td>\n",
       "        </tr>\n",
       "    </tbody>\n",
       "</table>"
      ],
      "text/plain": [
       "[(2647, 'F9 B4  B1039.2'),\n",
       " (3310, 'F9 B4 B1039.1'),\n",
       " (362, 'F9 B4 B1045.1'),\n",
       " (2697, 'F9 B4 B1045.2'),\n",
       " (12050, 'F9 B5 B1046.4'),\n",
       " (2268, 'F9 B5 B1056.2 '),\n",
       " (2972, 'F9 B5 B1058.4 '),\n",
       " (1977, 'F9 B5 B1059.2'),\n",
       " (2500, 'F9 B5B1050'),\n",
       " (12055, 'F9 B5B1051.1'),\n",
       " (2495, 'F9 B5B1056.1 '),\n",
       " (12530, 'F9 B5B1058.1 '),\n",
       " (2617, 'F9 B5B1059.1'),\n",
       " (12500, 'F9 B5B1061.1 '),\n",
       " (1192, 'F9 B5B1063.1'),\n",
       " (2205, 'F9 FT  B1035.2'),\n",
       " (3136, 'F9 FT B1021.1'),\n",
       " (2257, 'F9 FT B1025.1'),\n",
       " (2490, 'F9 FT B1031.1'),\n",
       " (2708, 'F9 FT B1035.1'),\n",
       " (0, 'F9 v1.0  B0004'),\n",
       " (525, 'F9 v1.0  B0005'),\n",
       " (500, 'F9 v1.0  B0006'),\n",
       " (677, 'F9 v1.0  B0007'),\n",
       " (2296, 'F9 v1.1'),\n",
       " (2216, 'F9 v1.1 B1010'),\n",
       " (2395, 'F9 v1.1 B1012'),\n",
       " (1898, 'F9 v1.1 B1015'),\n",
       " (553, 'F9 v1.1 B1017'),\n",
       " (1952, 'F9 v1.1 B1018')]"
      ]
     },
     "execution_count": 33,
     "metadata": {},
     "output_type": "execute_result"
    }
   ],
   "source": [
    "%sql SELECT sum(\"PAYLOAD_MASS__KG_\") as \"PAYLOAD_MASS__KG_\", \"Booster_Version\" from SPACEXTABLE where \"Customer\" like \"NASA%\" group by \"Booster_Version\";"
   ]
  },
  {
   "cell_type": "markdown",
   "metadata": {},
   "source": [
    "### Task 4\n",
    "\n",
    "\n",
    "\n",
    "\n",
    "##### Display average payload mass carried by booster version F9 v1.1\n"
   ]
  },
  {
   "cell_type": "code",
   "execution_count": 39,
   "metadata": {},
   "outputs": [
    {
     "name": "stdout",
     "output_type": "stream",
     "text": [
      " * sqlite:///my_data1.db\n",
      "Done.\n"
     ]
    },
    {
     "data": {
      "text/html": [
       "<table>\n",
       "    <thead>\n",
       "        <tr>\n",
       "            <th>PAYLOAD_MASS__KG_</th>\n",
       "        </tr>\n",
       "    </thead>\n",
       "    <tbody>\n",
       "        <tr>\n",
       "            <td>2928.4</td>\n",
       "        </tr>\n",
       "    </tbody>\n",
       "</table>"
      ],
      "text/plain": [
       "[(2928.4,)]"
      ]
     },
     "execution_count": 39,
     "metadata": {},
     "output_type": "execute_result"
    }
   ],
   "source": [
    "%sql SELECT avg(\"PAYLOAD_MASS__KG_\") as \"PAYLOAD_MASS__KG_\" from SPACEXTABLE where \"Booster_Version\" = \"F9 v1.1\";"
   ]
  },
  {
   "cell_type": "markdown",
   "metadata": {},
   "source": [
    "### Task 5\n",
    "\n",
    "##### List the date where the succesful landing outcome in drone ship was acheived.\n",
    "\n",
    "\n",
    "_Hint:Use min function_ \n"
   ]
  },
  {
   "cell_type": "code",
   "execution_count": 43,
   "metadata": {},
   "outputs": [
    {
     "name": "stdout",
     "output_type": "stream",
     "text": [
      " * sqlite:///my_data1.db\n",
      "Done.\n"
     ]
    },
    {
     "data": {
      "text/html": [
       "<table>\n",
       "    <thead>\n",
       "        <tr>\n",
       "            <th>successful in drone ship date</th>\n",
       "        </tr>\n",
       "    </thead>\n",
       "    <tbody>\n",
       "        <tr>\n",
       "            <td>2016-04-08</td>\n",
       "        </tr>\n",
       "        <tr>\n",
       "            <td>2016-05-06</td>\n",
       "        </tr>\n",
       "        <tr>\n",
       "            <td>2016-05-27</td>\n",
       "        </tr>\n",
       "        <tr>\n",
       "            <td>2016-08-14</td>\n",
       "        </tr>\n",
       "        <tr>\n",
       "            <td>2017-01-14</td>\n",
       "        </tr>\n",
       "        <tr>\n",
       "            <td>2017-03-30</td>\n",
       "        </tr>\n",
       "        <tr>\n",
       "            <td>2017-06-23</td>\n",
       "        </tr>\n",
       "        <tr>\n",
       "            <td>2017-06-25</td>\n",
       "        </tr>\n",
       "        <tr>\n",
       "            <td>2017-08-24</td>\n",
       "        </tr>\n",
       "        <tr>\n",
       "            <td>2017-10-09</td>\n",
       "        </tr>\n",
       "        <tr>\n",
       "            <td>2017-10-11</td>\n",
       "        </tr>\n",
       "        <tr>\n",
       "            <td>2017-10-30</td>\n",
       "        </tr>\n",
       "        <tr>\n",
       "            <td>2018-04-18</td>\n",
       "        </tr>\n",
       "        <tr>\n",
       "            <td>2018-05-11</td>\n",
       "        </tr>\n",
       "    </tbody>\n",
       "</table>"
      ],
      "text/plain": [
       "[('2016-04-08',),\n",
       " ('2016-05-06',),\n",
       " ('2016-05-27',),\n",
       " ('2016-08-14',),\n",
       " ('2017-01-14',),\n",
       " ('2017-03-30',),\n",
       " ('2017-06-23',),\n",
       " ('2017-06-25',),\n",
       " ('2017-08-24',),\n",
       " ('2017-10-09',),\n",
       " ('2017-10-11',),\n",
       " ('2017-10-30',),\n",
       " ('2018-04-18',),\n",
       " ('2018-05-11',)]"
      ]
     },
     "execution_count": 43,
     "metadata": {},
     "output_type": "execute_result"
    }
   ],
   "source": [
    "%sql SELECT \"Date\" as \"successful in drone ship date\" from SPACEXTABLE where \"Landing_Outcome\" = \"Success (drone ship)\";"
   ]
  },
  {
   "cell_type": "markdown",
   "metadata": {},
   "source": [
    "### Task 6\n",
    "\n",
    "##### List the names of the boosters which have success in ground pad  and have payload mass greater than 4000 but less than 6000\n"
   ]
  },
  {
   "cell_type": "code",
   "execution_count": 51,
   "metadata": {},
   "outputs": [
    {
     "name": "stdout",
     "output_type": "stream",
     "text": [
      " * sqlite:///my_data1.db\n",
      "Done.\n"
     ]
    },
    {
     "data": {
      "text/html": [
       "<table>\n",
       "    <thead>\n",
       "        <tr>\n",
       "            <th>Booster_Version</th>\n",
       "        </tr>\n",
       "    </thead>\n",
       "    <tbody>\n",
       "        <tr>\n",
       "            <td>F9 v1.1</td>\n",
       "        </tr>\n",
       "        <tr>\n",
       "            <td>F9 v1.1 B1011</td>\n",
       "        </tr>\n",
       "        <tr>\n",
       "            <td>F9 v1.1 B1014</td>\n",
       "        </tr>\n",
       "        <tr>\n",
       "            <td>F9 v1.1 B1016</td>\n",
       "        </tr>\n",
       "        <tr>\n",
       "            <td>F9 FT B1020</td>\n",
       "        </tr>\n",
       "        <tr>\n",
       "            <td>F9 FT B1022</td>\n",
       "        </tr>\n",
       "        <tr>\n",
       "            <td>F9 FT B1026</td>\n",
       "        </tr>\n",
       "        <tr>\n",
       "            <td>F9 FT B1030</td>\n",
       "        </tr>\n",
       "        <tr>\n",
       "            <td>F9 FT  B1021.2</td>\n",
       "        </tr>\n",
       "        <tr>\n",
       "            <td>F9 FT B1032.1</td>\n",
       "        </tr>\n",
       "        <tr>\n",
       "            <td>F9 B4 B1040.1</td>\n",
       "        </tr>\n",
       "        <tr>\n",
       "            <td>F9 FT  B1031.2</td>\n",
       "        </tr>\n",
       "        <tr>\n",
       "            <td>F9 B4 B1043.1</td>\n",
       "        </tr>\n",
       "        <tr>\n",
       "            <td>F9 FT  B1032.2</td>\n",
       "        </tr>\n",
       "        <tr>\n",
       "            <td>F9 B4  B1040.2</td>\n",
       "        </tr>\n",
       "        <tr>\n",
       "            <td>F9 B5 B1046.2</td>\n",
       "        </tr>\n",
       "        <tr>\n",
       "            <td>F9 B5 B1047.2</td>\n",
       "        </tr>\n",
       "        <tr>\n",
       "            <td>F9 B5B1054</td>\n",
       "        </tr>\n",
       "        <tr>\n",
       "            <td>F9 B5 B1048.3</td>\n",
       "        </tr>\n",
       "        <tr>\n",
       "            <td>F9 B5 B1051.2 </td>\n",
       "        </tr>\n",
       "        <tr>\n",
       "            <td>F9 B5B1060.1</td>\n",
       "        </tr>\n",
       "        <tr>\n",
       "            <td>F9 B5 B1058.2 </td>\n",
       "        </tr>\n",
       "        <tr>\n",
       "            <td>F9 B5B1062.1</td>\n",
       "        </tr>\n",
       "    </tbody>\n",
       "</table>"
      ],
      "text/plain": [
       "[('F9 v1.1',),\n",
       " ('F9 v1.1 B1011',),\n",
       " ('F9 v1.1 B1014',),\n",
       " ('F9 v1.1 B1016',),\n",
       " ('F9 FT B1020',),\n",
       " ('F9 FT B1022',),\n",
       " ('F9 FT B1026',),\n",
       " ('F9 FT B1030',),\n",
       " ('F9 FT  B1021.2',),\n",
       " ('F9 FT B1032.1',),\n",
       " ('F9 B4 B1040.1',),\n",
       " ('F9 FT  B1031.2',),\n",
       " ('F9 B4 B1043.1',),\n",
       " ('F9 FT  B1032.2',),\n",
       " ('F9 B4  B1040.2',),\n",
       " ('F9 B5 B1046.2',),\n",
       " ('F9 B5 B1047.2',),\n",
       " ('F9 B5B1054',),\n",
       " ('F9 B5 B1048.3',),\n",
       " ('F9 B5 B1051.2 ',),\n",
       " ('F9 B5B1060.1',),\n",
       " ('F9 B5 B1058.2 ',),\n",
       " ('F9 B5B1062.1',)]"
      ]
     },
     "execution_count": 51,
     "metadata": {},
     "output_type": "execute_result"
    }
   ],
   "source": [
    "%sql SELECT \"Booster_Version\" from SPACEXTABLE where \"PAYLOAD_MASS__KG_\" > 4000 and \"PAYLOAD_MASS__KG_\" < 6000"
   ]
  },
  {
   "cell_type": "markdown",
   "metadata": {},
   "source": [
    "### Task 7\n",
    "\n",
    "\n",
    "\n",
    "\n",
    "##### List the total number of successful and failure mission outcomes\n"
   ]
  },
  {
   "cell_type": "code",
   "execution_count": 53,
   "metadata": {},
   "outputs": [
    {
     "name": "stdout",
     "output_type": "stream",
     "text": [
      " * sqlite:///my_data1.db\n",
      "Done.\n"
     ]
    },
    {
     "data": {
      "text/html": [
       "<table>\n",
       "    <thead>\n",
       "        <tr>\n",
       "            <th>Failure</th>\n",
       "            <th>SUC</th>\n",
       "        </tr>\n",
       "    </thead>\n",
       "    <tbody>\n",
       "        <tr>\n",
       "            <td>1</td>\n",
       "            <td>100</td>\n",
       "        </tr>\n",
       "    </tbody>\n",
       "</table>"
      ],
      "text/plain": [
       "[(1, 100)]"
      ]
     },
     "execution_count": 53,
     "metadata": {},
     "output_type": "execute_result"
    }
   ],
   "source": [
    "%sql SELECT COUNT(CASE WHEN \"Mission_Outcome\" = \"Failure (in flight)\" THEN 1 END) AS \"Failure\", COUNT(CASE WHEN \"Mission_Outcome\" like \"Success%\" THEN 1 END) AS \"SUC\" FROM SPACEXTABLE"
   ]
  },
  {
   "cell_type": "markdown",
   "metadata": {},
   "source": [
    "### Task 8\n",
    "\n",
    "\n",
    "\n",
    "##### List the   names of the booster_versions which have carried the maximum payload mass. Use a subquery\n"
   ]
  },
  {
   "cell_type": "code",
   "execution_count": 55,
   "metadata": {},
   "outputs": [
    {
     "name": "stdout",
     "output_type": "stream",
     "text": [
      " * sqlite:///my_data1.db\n",
      "Done.\n"
     ]
    },
    {
     "data": {
      "text/html": [
       "<table>\n",
       "    <thead>\n",
       "        <tr>\n",
       "            <th>Booster_Version</th>\n",
       "        </tr>\n",
       "    </thead>\n",
       "    <tbody>\n",
       "        <tr>\n",
       "            <td>F9 B5 B1048.4</td>\n",
       "        </tr>\n",
       "        <tr>\n",
       "            <td>F9 B5 B1049.4</td>\n",
       "        </tr>\n",
       "        <tr>\n",
       "            <td>F9 B5 B1051.3</td>\n",
       "        </tr>\n",
       "        <tr>\n",
       "            <td>F9 B5 B1056.4</td>\n",
       "        </tr>\n",
       "        <tr>\n",
       "            <td>F9 B5 B1048.5</td>\n",
       "        </tr>\n",
       "        <tr>\n",
       "            <td>F9 B5 B1051.4</td>\n",
       "        </tr>\n",
       "        <tr>\n",
       "            <td>F9 B5 B1049.5</td>\n",
       "        </tr>\n",
       "        <tr>\n",
       "            <td>F9 B5 B1060.2 </td>\n",
       "        </tr>\n",
       "        <tr>\n",
       "            <td>F9 B5 B1058.3 </td>\n",
       "        </tr>\n",
       "        <tr>\n",
       "            <td>F9 B5 B1051.6</td>\n",
       "        </tr>\n",
       "        <tr>\n",
       "            <td>F9 B5 B1060.3</td>\n",
       "        </tr>\n",
       "        <tr>\n",
       "            <td>F9 B5 B1049.7 </td>\n",
       "        </tr>\n",
       "    </tbody>\n",
       "</table>"
      ],
      "text/plain": [
       "[('F9 B5 B1048.4',),\n",
       " ('F9 B5 B1049.4',),\n",
       " ('F9 B5 B1051.3',),\n",
       " ('F9 B5 B1056.4',),\n",
       " ('F9 B5 B1048.5',),\n",
       " ('F9 B5 B1051.4',),\n",
       " ('F9 B5 B1049.5',),\n",
       " ('F9 B5 B1060.2 ',),\n",
       " ('F9 B5 B1058.3 ',),\n",
       " ('F9 B5 B1051.6',),\n",
       " ('F9 B5 B1060.3',),\n",
       " ('F9 B5 B1049.7 ',)]"
      ]
     },
     "execution_count": 55,
     "metadata": {},
     "output_type": "execute_result"
    }
   ],
   "source": [
    "%sql SELECT \"Booster_Version\" FROM SPACEXTABLE WHERE \"PAYLOAD_MASS__KG_\" = (SELECT MAX(PAYLOAD_MASS__KG_) FROM SPACEXTABLE)"
   ]
  },
  {
   "cell_type": "markdown",
   "metadata": {},
   "source": [
    "### Task 9\n",
    "\n",
    "\n",
    "##### List the records which will display the month names, succesful landing_outcomes in ground pad ,booster versions, launch_site for the months in year 2017\n",
    "**Note: SQLLite does not support monthnames. So you need to use substr(Date,6,2) for month, substr(Date,9,2) for date, substr(Date,0,5),='2017' for year.**\n"
   ]
  },
  {
   "cell_type": "code",
   "execution_count": 57,
   "metadata": {},
   "outputs": [
    {
     "name": "stdout",
     "output_type": "stream",
     "text": [
      " * sqlite:///my_data1.db\n",
      "Done.\n"
     ]
    },
    {
     "data": {
      "text/html": [
       "<table>\n",
       "    <thead>\n",
       "        <tr>\n",
       "            <th>month</th>\n",
       "            <th>Landing_Outcome</th>\n",
       "            <th>Booster_Version</th>\n",
       "            <th>Launch_Site</th>\n",
       "        </tr>\n",
       "    </thead>\n",
       "    <tbody>\n",
       "        <tr>\n",
       "            <td>02</td>\n",
       "            <td>Success (ground pad)</td>\n",
       "            <td>F9 FT B1031.1</td>\n",
       "            <td>KSC LC-39A</td>\n",
       "        </tr>\n",
       "        <tr>\n",
       "            <td>05</td>\n",
       "            <td>Success (ground pad)</td>\n",
       "            <td>F9 FT B1032.1</td>\n",
       "            <td>KSC LC-39A</td>\n",
       "        </tr>\n",
       "        <tr>\n",
       "            <td>06</td>\n",
       "            <td>Success (ground pad)</td>\n",
       "            <td>F9 FT B1035.1</td>\n",
       "            <td>KSC LC-39A</td>\n",
       "        </tr>\n",
       "        <tr>\n",
       "            <td>08</td>\n",
       "            <td>Success (ground pad)</td>\n",
       "            <td>F9 B4 B1039.1</td>\n",
       "            <td>KSC LC-39A</td>\n",
       "        </tr>\n",
       "        <tr>\n",
       "            <td>09</td>\n",
       "            <td>Success (ground pad)</td>\n",
       "            <td>F9 B4 B1040.1</td>\n",
       "            <td>KSC LC-39A</td>\n",
       "        </tr>\n",
       "        <tr>\n",
       "            <td>12</td>\n",
       "            <td>Success (ground pad)</td>\n",
       "            <td>F9 FT  B1035.2</td>\n",
       "            <td>CCAFS SLC-40</td>\n",
       "        </tr>\n",
       "    </tbody>\n",
       "</table>"
      ],
      "text/plain": [
       "[('02', 'Success (ground pad)', 'F9 FT B1031.1', 'KSC LC-39A'),\n",
       " ('05', 'Success (ground pad)', 'F9 FT B1032.1', 'KSC LC-39A'),\n",
       " ('06', 'Success (ground pad)', 'F9 FT B1035.1', 'KSC LC-39A'),\n",
       " ('08', 'Success (ground pad)', 'F9 B4 B1039.1', 'KSC LC-39A'),\n",
       " ('09', 'Success (ground pad)', 'F9 B4 B1040.1', 'KSC LC-39A'),\n",
       " ('12', 'Success (ground pad)', 'F9 FT  B1035.2', 'CCAFS SLC-40')]"
      ]
     },
     "execution_count": 57,
     "metadata": {},
     "output_type": "execute_result"
    }
   ],
   "source": [
    "%sql select substr(Date,6,2) as month, \"Landing_Outcome\", \"Booster_Version\", \"Launch_Site\" from SPACEXTABLE  where substr(Date,0,5)=\"2017\" and \"Landing_Outcome\" = \"Success (ground pad)\""
   ]
  },
  {
   "cell_type": "markdown",
   "metadata": {},
   "source": [
    "### Task 10\n",
    "\n",
    "\n",
    "\n",
    "\n",
    "##### Rank the count of landing outcomes (such as Failure (drone ship) or Success (ground pad)) between the date 2010-06-04 and 2017-03-20, in descending order\n"
   ]
  },
  {
   "cell_type": "code",
   "execution_count": 63,
   "metadata": {},
   "outputs": [
    {
     "name": "stdout",
     "output_type": "stream",
     "text": [
      " * sqlite:///my_data1.db\n",
      "Done.\n"
     ]
    },
    {
     "data": {
      "text/html": [
       "<table>\n",
       "    <thead>\n",
       "        <tr>\n",
       "            <th>Landing_Outcome</th>\n",
       "            <th>outcome_count</th>\n",
       "            <th>rank</th>\n",
       "        </tr>\n",
       "    </thead>\n",
       "    <tbody>\n",
       "        <tr>\n",
       "            <td>No attempt</td>\n",
       "            <td>10</td>\n",
       "            <td>1</td>\n",
       "        </tr>\n",
       "        <tr>\n",
       "            <td>Success (drone ship)</td>\n",
       "            <td>5</td>\n",
       "            <td>2</td>\n",
       "        </tr>\n",
       "        <tr>\n",
       "            <td>Failure (drone ship)</td>\n",
       "            <td>5</td>\n",
       "            <td>2</td>\n",
       "        </tr>\n",
       "        <tr>\n",
       "            <td>Success (ground pad)</td>\n",
       "            <td>3</td>\n",
       "            <td>4</td>\n",
       "        </tr>\n",
       "        <tr>\n",
       "            <td>Controlled (ocean)</td>\n",
       "            <td>3</td>\n",
       "            <td>4</td>\n",
       "        </tr>\n",
       "        <tr>\n",
       "            <td>Uncontrolled (ocean)</td>\n",
       "            <td>2</td>\n",
       "            <td>6</td>\n",
       "        </tr>\n",
       "        <tr>\n",
       "            <td>Failure (parachute)</td>\n",
       "            <td>2</td>\n",
       "            <td>6</td>\n",
       "        </tr>\n",
       "        <tr>\n",
       "            <td>Precluded (drone ship)</td>\n",
       "            <td>1</td>\n",
       "            <td>8</td>\n",
       "        </tr>\n",
       "    </tbody>\n",
       "</table>"
      ],
      "text/plain": [
       "[('No attempt', 10, 1),\n",
       " ('Success (drone ship)', 5, 2),\n",
       " ('Failure (drone ship)', 5, 2),\n",
       " ('Success (ground pad)', 3, 4),\n",
       " ('Controlled (ocean)', 3, 4),\n",
       " ('Uncontrolled (ocean)', 2, 6),\n",
       " ('Failure (parachute)', 2, 6),\n",
       " ('Precluded (drone ship)', 1, 8)]"
      ]
     },
     "execution_count": 63,
     "metadata": {},
     "output_type": "execute_result"
    }
   ],
   "source": [
    "%sql SELECT \"Landing_Outcome\", COUNT(*) AS outcome_count, RANK() OVER (ORDER BY COUNT(*) DESC) AS rank FROM SPACEXTABLE WHERE \"Date\" BETWEEN '2010-06-04' AND '2017-03-20' GROUP BY \"Landing_Outcome\" ORDER BY rank"
   ]
  },
  {
   "cell_type": "markdown",
   "metadata": {},
   "source": [
    "### Reference Links\n",
    "\n",
    "* <a href =\"https://cf-courses-data.s3.us.cloud-object-storage.appdomain.cloud/IBMDeveloperSkillsNetwork-DB0201EN-SkillsNetwork/labs/Module%203/LAB-String_Patterns_Sorting_Grouping.md.html\">Hands-on Lab : String Patterns, Sorting and Grouping</a>  \n",
    "\n",
    "*  <a  href=\"https://cf-courses-data.s3.us.cloud-object-storage.appdomain.cloud/IBMDeveloperSkillsNetwork-DB0201EN-SkillsNetwork/labs/Labs_Coursera_V5/labs/Lab%20-%20Built-in%20functions%20/Hands-on_Lab__Built-in_Functions.md.html\">Hands-on Lab: Built-in functions</a>\n",
    "\n",
    "*  <a  href=\"https://cf-courses-data.s3.us.cloud-object-storage.appdomain.cloud/IBMDeveloperSkillsNetwork-DB0201EN-SkillsNetwork/labs/Labs_Coursera_V5/labs/Lab%20-%20Sub-queries%20and%20Nested%20SELECTs%20/instructional-labs.md.html\">Hands-on Lab : Sub-queries and Nested SELECT Statements</a>\n",
    "\n",
    "*   <a href=\"https://cf-courses-data.s3.us.cloud-object-storage.appdomain.cloud/IBMDeveloperSkillsNetwork-DB0201EN-SkillsNetwork/labs/Module%205/DB0201EN-Week3-1-3-SQLmagic.ipynb\">Hands-on Tutorial: Accessing Databases with SQL magic</a>\n",
    "\n",
    "*  <a href= \"https://cf-courses-data.s3.us.cloud-object-storage.appdomain.cloud/IBMDeveloperSkillsNetwork-DB0201EN-SkillsNetwork/labs/Module%205/DB0201EN-Week3-1-4-Analyzing.ipynb\">Hands-on Lab: Analyzing a real World Data Set</a>\n"
   ]
  },
  {
   "cell_type": "markdown",
   "metadata": {},
   "source": [
    "## Author(s)\n",
    "\n",
    "<h4> Lakshmi Holla </h4>\n"
   ]
  },
  {
   "cell_type": "markdown",
   "metadata": {},
   "source": [
    "## Other Contributors\n",
    "\n",
    "<h4> Rav Ahuja </h4>\n"
   ]
  },
  {
   "cell_type": "markdown",
   "metadata": {},
   "source": [
    "<!--## Change log\n",
    "| Date | Version | Changed by | Change Description |\n",
    "|------|--------|--------|---------|\n",
    "| 2021-07-09 | 0.2 |Lakshmi Holla | Changes made in magic sql|\n",
    "| 2021-05-20 | 0.1 |Lakshmi Holla | Created Initial Version |\n",
    "--!>\n"
   ]
  },
  {
   "cell_type": "markdown",
   "metadata": {},
   "source": [
    "## <h3 align=\"center\"> © IBM Corporation 2021. All rights reserved. <h3/>\n"
   ]
  }
 ],
 "metadata": {
  "kernelspec": {
   "display_name": "Python [conda env:miniconda3-py39]",
   "language": "python",
   "name": "conda-env-miniconda3-py39-py"
  },
  "language_info": {
   "codemirror_mode": {
    "name": "ipython",
    "version": 3
   },
   "file_extension": ".py",
   "mimetype": "text/x-python",
   "name": "python",
   "nbconvert_exporter": "python",
   "pygments_lexer": "ipython3",
   "version": "3.9.18"
  },
  "prev_pub_hash": "ad05315d68f125ddeb4c7506fc84a8fe03e57af8c6799fdc4d090ebad5b3b8d1"
 },
 "nbformat": 4,
 "nbformat_minor": 4
}
